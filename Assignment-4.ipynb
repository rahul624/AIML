{
 "cells": [
  {
   "cell_type": "markdown",
   "metadata": {},
   "source": [
    "### CSE-221710306050-rahul.k"
   ]
  },
  {
   "cell_type": "code",
   "execution_count": 1,
   "metadata": {},
   "outputs": [],
   "source": [
    "#Q-1\n",
    "\n",
    "f = open(\"data.txt\",\"w\")\n",
    "#adding content to the file\n",
    "f.write(\"Hello Everyone!!!\")\n",
    "f.close()"
   ]
  },
  {
   "cell_type": "code",
   "execution_count": 3,
   "metadata": {},
   "outputs": [],
   "source": [
    "f = open(\"data.txt\",\"a\")\n",
    "s = '''\\nHow are doing all??\n",
    "stay home!!!\n",
    "aiml'''\n",
    "f.write(s)\n",
    "f.close()\n"
   ]
  },
  {
   "cell_type": "code",
   "execution_count": 4,
   "metadata": {},
   "outputs": [
    {
     "name": "stdout",
     "output_type": "stream",
     "text": [
      "Enter file name: data.txt\n",
      "Number of lines:\n",
      "9\n",
      "Number of words:\n",
      "19\n",
      "Number of letters:\n",
      "92\n"
     ]
    }
   ],
   "source": [
    "fname = input(\"Enter file name: \")\n",
    " \n",
    "num_words = 0\n",
    "num_lines =0\n",
    "num_letter=0\n",
    "with open(fname, 'r') as f:\n",
    "    for line in f:\n",
    "        words = line.split()\n",
    "        num_words += len(words)\n",
    "with open(fname, 'r') as f:\n",
    "    for line in f:\n",
    "        num_lines += 1\n",
    "with open(fname,'r') as f:\n",
    "    for line in f:\n",
    "        words=line.split()\n",
    "        for i in words:\n",
    "            \n",
    "                num_letter+=len(i)\n",
    "print(\"Number of lines:\")\n",
    "print(num_lines)\n",
    "print(\"Number of words:\")\n",
    "print(num_words)\n",
    "print(\"Number of letters:\")\n",
    "print(num_letter)"
   ]
  },
  {
   "cell_type": "code",
   "execution_count": 5,
   "metadata": {},
   "outputs": [],
   "source": [
    "#Q-2\n",
    "\n",
    "with open(\"data.txt\") as f:\n",
    "    with open(\"out.txt\", \"w\") as f1:\n",
    "        for line in f:\n",
    "            f1.write(line)"
   ]
  },
  {
   "cell_type": "code",
   "execution_count": 6,
   "metadata": {},
   "outputs": [
    {
     "name": "stdout",
     "output_type": "stream",
     "text": [
      "Hello Everyone!!!\n",
      "How are doing all??\n",
      "stay home!!!\n",
      "stay safe\n",
      "python\n",
      "aiml\n",
      "How are doing all??\n",
      "stay home!!!\n",
      "aiml\n"
     ]
    }
   ],
   "source": [
    "f = open(\"out.txt\",\"r\")\n",
    "data = f.read()\n",
    "print(data)\n",
    "f.close()"
   ]
  },
  {
   "cell_type": "code",
   "execution_count": 7,
   "metadata": {},
   "outputs": [
    {
     "name": "stdout",
     "output_type": "stream",
     "text": [
      "pancakes\n",
      "pants\n",
      "park\n",
      "peaches.\n"
     ]
    }
   ],
   "source": [
    "#Q-3\n",
    "\n",
    "St= '''\\nYour pancakes look really good.\n",
    "There is a sale on pants today. \n",
    "We go to the park once a week.\n",
    "Georgia grows the most delicious peaches.''' \n",
    "\n",
    "for i in St.split():\n",
    "    if i.startswith(\"p\"):\n",
    "        print(i)"
   ]
  },
  {
   "cell_type": "code",
   "execution_count": 8,
   "metadata": {},
   "outputs": [],
   "source": [
    "# Q-4\n",
    "\n",
    "import os\n",
    "os.rename(\"data.txt\",\"python.txt\")"
   ]
  },
  {
   "cell_type": "code",
   "execution_count": 9,
   "metadata": {},
   "outputs": [
    {
     "name": "stdout",
     "output_type": "stream",
     "text": [
      "Hello Everyone!!!\n",
      "How are doing all??\n",
      "stay home!!!\n",
      "stay safe\n",
      "python\n",
      "aiml\n",
      "How are doing all??\n",
      "stay home!!!\n",
      "aiml\n"
     ]
    }
   ],
   "source": [
    "f = open(\"python.txt\",\"r\")\n",
    "data = f.read()\n",
    "print(data)\n",
    "f.close()"
   ]
  },
  {
   "cell_type": "code",
   "execution_count": 10,
   "metadata": {},
   "outputs": [],
   "source": [
    "import os\n",
    "os.remove(\"python.txt\")"
   ]
  },
  {
   "cell_type": "code",
   "execution_count": 11,
   "metadata": {},
   "outputs": [
    {
     "ename": "FileNotFoundError",
     "evalue": "[Errno 2] No such file or directory: 'python.txt'",
     "output_type": "error",
     "traceback": [
      "\u001b[0;31m---------------------------------------------------------------------------\u001b[0m",
      "\u001b[0;31mFileNotFoundError\u001b[0m                         Traceback (most recent call last)",
      "\u001b[0;32m<ipython-input-11-6fb232e5a039>\u001b[0m in \u001b[0;36m<module>\u001b[0;34m\u001b[0m\n\u001b[0;32m----> 1\u001b[0;31m \u001b[0mf\u001b[0m \u001b[0;34m=\u001b[0m \u001b[0mopen\u001b[0m\u001b[0;34m(\u001b[0m\u001b[0;34m\"python.txt\"\u001b[0m\u001b[0;34m,\u001b[0m\u001b[0;34m\"r\"\u001b[0m\u001b[0;34m)\u001b[0m\u001b[0;34m\u001b[0m\u001b[0;34m\u001b[0m\u001b[0m\n\u001b[0m",
      "\u001b[0;31mFileNotFoundError\u001b[0m: [Errno 2] No such file or directory: 'python.txt'"
     ]
    }
   ],
   "source": [
    "f = open(\"python.txt\",\"r\")"
   ]
  },
  {
   "cell_type": "code",
   "execution_count": null,
   "metadata": {},
   "outputs": [],
   "source": [
    "# Q-5\n",
    "\n"
   ]
  }
 ],
 "metadata": {
  "kernelspec": {
   "display_name": "Python 3",
   "language": "python",
   "name": "python3"
  },
  "language_info": {
   "codemirror_mode": {
    "name": "ipython",
    "version": 3
   },
   "file_extension": ".py",
   "mimetype": "text/x-python",
   "name": "python",
   "nbconvert_exporter": "python",
   "pygments_lexer": "ipython3",
   "version": "3.7.4"
  }
 },
 "nbformat": 4,
 "nbformat_minor": 2
}
