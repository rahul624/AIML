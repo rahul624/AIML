{
 "cells": [
  {
   "cell_type": "markdown",
   "metadata": {},
   "source": [
    "### CSE-221710306050-rahul.k\n",
    "##### Project assignment\n",
    "\n"
   ]
  },
  {
   "cell_type": "code",
   "execution_count": null,
   "metadata": {},
   "outputs": [
    {
     "name": "stdout",
     "output_type": "stream",
     "text": [
      "enter YES or NOYES\n",
      "deatpencil 55 $\n",
      "enter YES or NOYES\n",
      "eatpedgfdl 92 \\\n"
     ]
    }
   ],
   "source": [
    "import string\n",
    "import random\n",
    "verb=[\"eat\",\"fat\",\"mat\",\"pat\",\"peat\",\"feat\",\"leat\",\"heat\",\"deat\",\"keat\",\"xeat\",\"zeat\"]\n",
    "nounlist=[\"pen\",\"pencil\",\"ecil\",\"gfdcil\",\"pgdil\",\"pedfcil\",\"ngd\",\"pefgdl\",\"pedgfdl\"]\n",
    "\n",
    "while(str):\n",
    "    str=input(\"enter YES or NO\")\n",
    "    if(str==\"YES\"):\n",
    "        print(random.choice(verb)+random.choice(nounlist),end=\" \")\n",
    "        print(random.randint(1,100),end=\" \")\n",
    "        print(random.choice(string.punctuation))\n",
    "    else:\n",
    "        break\n",
    "        \n",
    "        "
   ]
  },
  {
   "cell_type": "code",
   "execution_count": null,
   "metadata": {},
   "outputs": [],
   "source": []
  }
 ],
 "metadata": {
  "kernelspec": {
   "display_name": "Python 3",
   "language": "python",
   "name": "python3"
  },
  "language_info": {
   "codemirror_mode": {
    "name": "ipython",
    "version": 3
   },
   "file_extension": ".py",
   "mimetype": "text/x-python",
   "name": "python",
   "nbconvert_exporter": "python",
   "pygments_lexer": "ipython3",
   "version": "3.7.4"
  }
 },
 "nbformat": 4,
 "nbformat_minor": 2
}
